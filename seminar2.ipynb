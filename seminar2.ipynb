{
  "cells": [
    {
      "cell_type": "markdown",
      "metadata": {
        "id": "MephMVTao84-"
      },
      "source": [
        "### Задание 0 (разминка)\n",
        "\n",
        "Даны два списка `a` и `b` (см. ниже).\n",
        "    \n",
        "1. Выведите на экран первый элемент списка `a`, третий элемент списка `a`, последний элемент списка `a`.\n",
        "2. Добавьте в список `b` элемент 7 (просто допишите в конец).\n",
        "3. Замените пятый элемент списка `a` на число 8.\n",
        "4. Создайте список `merged`, который включает в себя все элементы списка `a` и списка `b`.\n",
        "5. Создайте новый список `с`, который получается заменой последнего элемента списка `a` на число 100. Сам список `a` измениться не должен!"
      ]
    },
    {
      "cell_type": "code",
      "execution_count": null,
      "metadata": {
        "id": "Urk52jado85H"
      },
      "outputs": [],
      "source": [
        "a = [1, 0, 9, 12, 18, 34, 89, 91, 33, 127]\n",
        "b = [2, 8, 9, 11, 76, 25, 44]"
      ]
    },
    {
      "cell_type": "code",
      "execution_count": 4,
      "metadata": {
        "id": "TXFiq-Mko85K",
        "colab": {
          "base_uri": "https://localhost:8080/"
        },
        "outputId": "a1315de6-9d9a-4fc6-bcc3-406a8110c512"
      },
      "outputs": [
        {
          "output_type": "stream",
          "name": "stdout",
          "text": [
            "1 9 127\n",
            "b: [2, 8, 9, 11, 76, 25, 44, 7]\n",
            "a: [1, 0, 9, 12, 8, 34, 89, 91, 33, 127]\n",
            "merged: [1, 0, 9, 12, 8, 34, 89, 91, 33, 127, 2, 8, 9, 11, 76, 25, 44, 7]\n",
            "c: [1, 0, 9, 12, 8, 34, 89, 91, 33, 100] a: [1, 0, 9, 12, 8, 34, 89, 91, 33, 127]\n"
          ]
        }
      ],
      "source": [
        "a = [1, 0, 9, 12, 18, 34, 89, 91, 33, 127]\n",
        "b = [2, 8, 9, 11, 76, 25, 44]\n",
        "#1\n",
        "print(a[0],a[2],a[len(a)-1])\n",
        "#2\n",
        "b.append(7)\n",
        "print('b:',b)\n",
        "#3\n",
        "a[4]=8\n",
        "print('a:',a)\n",
        "#4\n",
        "merged = a+b\n",
        "print('merged:',merged)\n",
        "#5\n",
        "c=a.copy()\n",
        "c[len(c)-1]=100\n",
        "print('c:',c,'a:',a)"
      ]
    },
    {
      "cell_type": "markdown",
      "metadata": {
        "id": "kvFcs911o85L"
      },
      "source": [
        "### Задание 1 (девочковое)\n",
        "\n",
        "Есть список имен:"
      ]
    },
    {
      "cell_type": "code",
      "execution_count": null,
      "metadata": {
        "id": "HB3SaQ_0o85M"
      },
      "outputs": [],
      "source": [
        "girls = [\"Иветта\", \"Виолетта\", \"Кассандра\", \"Вирджиния\", \n",
        "         \"Амелия\", \"Розамунда\", \"Янина\", \"Беатриса\"]"
      ]
    },
    {
      "cell_type": "markdown",
      "metadata": {
        "id": "Ws_vXuv8o85N"
      },
      "source": [
        "Используя список `girls`, выведите на экран следующие списки:\n",
        "\n",
        "    [\"Виолетта\", \"Кассандра\", \"Вирджиния\", \"Амелия\"]\n",
        "    [\"Вирджиния\", \"Амелия\", \"Розамунда\", \"Янина\", \"Беатриса\"]\n",
        "    [\"Иветта\", \"Виолетта\", \"Вирджиния\", \"Амелия\"]\n",
        "    [\"Кассандра\", \"Амелия\", \"Розамунда\"]"
      ]
    },
    {
      "cell_type": "code",
      "execution_count": null,
      "metadata": {
        "id": "vCbCOg-bo85O",
        "outputId": "d0aa6857-f129-4c70-a916-856c823ddf8d"
      },
      "outputs": [
        {
          "name": "stdout",
          "output_type": "stream",
          "text": [
            "['Вирджиния', 'Амелия', 'Розамунда', 'Янина', 'Беатриса']\n"
          ]
        }
      ],
      "source": [
        "print(girls[3:])"
      ]
    },
    {
      "cell_type": "code",
      "source": [
        "girls = [\"Иветта\", \"Виолетта\", \"Кассандра\", \"Вирджиния\", \"Амелия\", \"Розамунда\", \"Янина\", \"Беатриса\"]\n",
        "g1=girls[1:5]\n",
        "print(g1)\n",
        "g2=girls[3:]\n",
        "print(g2)\n",
        "g3=girls[:2]+girls[3:5]\n",
        "print(g3)\n",
        "g4=girls[2:3]+girls[4:6]\n",
        "print(g4)"
      ],
      "metadata": {
        "id": "gzEChZf57udP",
        "colab": {
          "base_uri": "https://localhost:8080/"
        },
        "outputId": "850083b3-cb0d-4517-c415-0c6d849a5990"
      },
      "execution_count": 7,
      "outputs": [
        {
          "output_type": "stream",
          "name": "stdout",
          "text": [
            "['Виолетта', 'Кассандра', 'Вирджиния', 'Амелия']\n",
            "['Вирджиния', 'Амелия', 'Розамунда', 'Янина', 'Беатриса']\n",
            "['Иветта', 'Виолетта', 'Вирджиния', 'Амелия']\n",
            "['Кассандра', 'Амелия', 'Розамунда']\n"
          ]
        }
      ]
    },
    {
      "cell_type": "markdown",
      "metadata": {
        "id": "1InqQ5RWo85S"
      },
      "source": [
        "### Задание 2 (поэлементное) \n",
        "\n",
        "Дан список `L`. Выведите на экран (последовательно, с новой строчки): \n",
        "\n",
        "* все элементы списка `L`\n",
        "* логарифмированные значения элементов списка `L`"
      ]
    },
    {
      "cell_type": "code",
      "execution_count": 8,
      "metadata": {
        "id": "3M9QZnEro85V"
      },
      "outputs": [],
      "source": [
        "L = [12, 3, 8, 125, 10, 98, 54, 199]"
      ]
    },
    {
      "cell_type": "code",
      "execution_count": 9,
      "metadata": {
        "id": "jA2oDo-4o85Y",
        "outputId": "363bc7f9-55c7-49b7-cf7f-53e0717e0f17",
        "colab": {
          "base_uri": "https://localhost:8080/"
        }
      },
      "outputs": [
        {
          "output_type": "stream",
          "name": "stdout",
          "text": [
            "12\n",
            "3\n",
            "8\n",
            "125\n",
            "10\n",
            "98\n",
            "54\n",
            "199\n"
          ]
        }
      ],
      "source": [
        "for i in L:\n",
        "    print(i)"
      ]
    },
    {
      "cell_type": "code",
      "source": [
        "L = [12, 3, 8, 125, 10, 98, 54, 199]\n",
        "import math\n",
        "for i in L:\n",
        "    a=math.log(i)\n",
        "    print(i,a)"
      ],
      "metadata": {
        "colab": {
          "base_uri": "https://localhost:8080/"
        },
        "id": "J6ExYgS34Y6L",
        "outputId": "c9caa19d-f6b6-43d2-e073-81fdaa5e0bc1"
      },
      "execution_count": 1,
      "outputs": [
        {
          "output_type": "stream",
          "name": "stdout",
          "text": [
            "12 2.4849066497880004\n",
            "3 1.0986122886681098\n",
            "8 2.0794415416798357\n",
            "125 4.8283137373023015\n",
            "10 2.302585092994046\n",
            "98 4.584967478670572\n",
            "54 3.9889840465642745\n",
            "199 5.293304824724492\n"
          ]
        }
      ]
    },
    {
      "cell_type": "markdown",
      "metadata": {
        "id": "cJ1XE-bYo85Z"
      },
      "source": [
        "Замените пятый элемент списка `L` на 0. Проделайте те же операции, что и раньше. Объясните, почему получаются такие результаты."
      ]
    },
    {
      "cell_type": "code",
      "source": [
        "L = [12, 3, 8, 125, 10, 98, 54, 199]\n",
        "L[4]=0\n",
        "import math\n",
        "for i in L:\n",
        "    a=math.log(i)\n",
        "    print(i,a)"
      ],
      "metadata": {
        "colab": {
          "base_uri": "https://localhost:8080/",
          "height": 279
        },
        "id": "LX1uw3snkuyg",
        "outputId": "5bb33034-c4eb-451a-fbbd-92e5650a1dd1"
      },
      "execution_count": 13,
      "outputs": [
        {
          "output_type": "stream",
          "name": "stdout",
          "text": [
            "12 2.4849066497880004\n",
            "3 1.0986122886681098\n",
            "8 2.0794415416798357\n",
            "125 4.8283137373023015\n"
          ]
        },
        {
          "output_type": "error",
          "ename": "ValueError",
          "evalue": "ignored",
          "traceback": [
            "\u001b[0;31m---------------------------------------------------------------------------\u001b[0m",
            "\u001b[0;31mValueError\u001b[0m                                Traceback (most recent call last)",
            "\u001b[0;32m<ipython-input-13-50c9dce517e0>\u001b[0m in \u001b[0;36m<module>\u001b[0;34m()\u001b[0m\n\u001b[1;32m      3\u001b[0m \u001b[0;32mimport\u001b[0m \u001b[0mmath\u001b[0m\u001b[0;34m\u001b[0m\u001b[0;34m\u001b[0m\u001b[0m\n\u001b[1;32m      4\u001b[0m \u001b[0;32mfor\u001b[0m \u001b[0mi\u001b[0m \u001b[0;32min\u001b[0m \u001b[0mL\u001b[0m\u001b[0;34m:\u001b[0m\u001b[0;34m\u001b[0m\u001b[0;34m\u001b[0m\u001b[0m\n\u001b[0;32m----> 5\u001b[0;31m     \u001b[0ma\u001b[0m\u001b[0;34m=\u001b[0m\u001b[0mmath\u001b[0m\u001b[0;34m.\u001b[0m\u001b[0mlog\u001b[0m\u001b[0;34m(\u001b[0m\u001b[0mi\u001b[0m\u001b[0;34m)\u001b[0m\u001b[0;34m\u001b[0m\u001b[0;34m\u001b[0m\u001b[0m\n\u001b[0m\u001b[1;32m      6\u001b[0m     \u001b[0mprint\u001b[0m\u001b[0;34m(\u001b[0m\u001b[0mi\u001b[0m\u001b[0;34m,\u001b[0m\u001b[0ma\u001b[0m\u001b[0;34m)\u001b[0m\u001b[0;34m\u001b[0m\u001b[0;34m\u001b[0m\u001b[0m\n",
            "\u001b[0;31mValueError\u001b[0m: math domain error"
          ]
        }
      ]
    },
    {
      "cell_type": "markdown",
      "source": [
        "Программа останавливается, доходя до 5 элемента. Причина в математической ошибке. При возведении числа е в любую степень, 0 никогда не получится, поэтому log(0) не существует."
      ],
      "metadata": {
        "id": "VRl_fc4DoD3Z"
      }
    },
    {
      "cell_type": "markdown",
      "metadata": {
        "id": "8cChLauTo85Z"
      },
      "source": [
        "### Задание 3 (демографическое)\n",
        "\n",
        "В списке `age` сохранены значения возраста респондентов: \n",
        "\n",
        "    age = [24, 35, 42, 27, 45, 48, 33]\n",
        "    \n",
        "Создайте список `age2`, в котором будут храниться значения возраста, возведенные в квадрат.\n",
        "\n",
        "**Подсказка:** используйте цикл *for*."
      ]
    },
    {
      "cell_type": "code",
      "execution_count": 27,
      "metadata": {
        "id": "g8ng5Z-Ko85a"
      },
      "outputs": [],
      "source": [
        "age = [24, 35, 42, 27, 45, 48, 33]\n",
        "age1 = []"
      ]
    },
    {
      "cell_type": "code",
      "execution_count": 29,
      "metadata": {
        "id": "Do_oovi9o85b",
        "outputId": "3789c435-8b7d-4d3d-9dc9-6064929ea3ea",
        "colab": {
          "base_uri": "https://localhost:8080/"
        }
      },
      "outputs": [
        {
          "output_type": "stream",
          "name": "stdout",
          "text": [
            "24 576\n",
            "35 1225\n",
            "42 1764\n",
            "27 729\n",
            "45 2025\n",
            "48 2304\n",
            "33 1089\n",
            "[576, 1225, 1764, 729, 2025, 2304, 1089]\n"
          ]
        }
      ],
      "source": [
        "age = [24, 35, 42, 27, 45, 48, 33]\n",
        "age2 = []\n",
        "j=0\n",
        "for i in age:\n",
        "    age2.append(i*i)\n",
        "    print(i, age2[j])\n",
        "    j=j+1\n",
        "print(age2)"
      ]
    },
    {
      "cell_type": "markdown",
      "metadata": {
        "id": "jsQKsPCYo85c"
      },
      "source": [
        "### Задание 4 (игровое)\n",
        "\n",
        "Питон просит пользователя загадать (ввести с клавиатуры) целое число $k$ от 1 до 10. Питон берет это число $k$ и выводит на экран $k$-тый элемент списка `numbers`, причем $k$-ый элемент в привычном понимании, в нумерации, которая начинается с единицы.  \n",
        "\n",
        "Список `numbers`:"
      ]
    },
    {
      "cell_type": "code",
      "execution_count": null,
      "metadata": {
        "id": "iR_vx5rao85c"
      },
      "outputs": [],
      "source": [
        "numbers = [1, 5, 6, 8, 10, 21, 25, 1, 0, -9, 9]"
      ]
    },
    {
      "cell_type": "markdown",
      "metadata": {
        "id": "U8R8hzFIo85d"
      },
      "source": [
        "**Пояснение:**\n",
        "    \n",
        "*Входные данные:*\n",
        "\n",
        "    Введите целое число от 1 до 10: 3\n",
        "    \n",
        "*Выходные данные:*\n",
        "\n",
        "    6"
      ]
    },
    {
      "cell_type": "code",
      "source": [
        "numbers = [1, 5, 6, 8, 10, 21, 25, 1, 0, -9, 9]\n",
        "i = int(input(\"Введите целое число от 1 до 10: \"))\n",
        "print(numbers[i-1])"
      ],
      "metadata": {
        "colab": {
          "base_uri": "https://localhost:8080/"
        },
        "id": "1VkCcSiSxT1w",
        "outputId": "fdb52169-9ca4-481e-d6ac-88380ffeb70b"
      },
      "execution_count": 37,
      "outputs": [
        {
          "output_type": "stream",
          "name": "stdout",
          "text": [
            "Введите целое число от 1 до 10: 3\n",
            "6\n"
          ]
        }
      ]
    },
    {
      "cell_type": "markdown",
      "metadata": {
        "id": "9gW7xTDSo85e"
      },
      "source": [
        "### Задание 5 (числовое)\n",
        "\n",
        "У питона есть набор любимых чисел.\n",
        "\n",
        "    favorites = [3, 7, 11, 23, 18, 48, 81]\n",
        "\n",
        "Напишите программу, которая просит пользователя ввести целое число, и если оно нравится питону, на экран будет выводиться сообщение: \"Мое любимое число!\", если нет ‒ \"Эх, ну почему?\".\n",
        "\n",
        "*Подсказка:* чтобы проверить, принадлежит ли некоторый объект элементам списка, можно воспользоваться оператором *in*."
      ]
    },
    {
      "cell_type": "code",
      "source": [
        "favorites = [3, 7, 11, 23, 18, 48, 81]\n",
        "Num = int(input(\"Введите целое число: \"))\n",
        "if Num in favorites:\n",
        "    print(\"Моё любимое число!\")\n",
        "else:\n",
        "    print(\"Эх, ну почему?\")"
      ],
      "metadata": {
        "colab": {
          "base_uri": "https://localhost:8080/"
        },
        "id": "WUwxqANBCEkS",
        "outputId": "a74876c6-08b3-4876-9872-03991383efe9"
      },
      "execution_count": 43,
      "outputs": [
        {
          "output_type": "stream",
          "name": "stdout",
          "text": [
            "Введите целое число: 55\n",
            "Эх, ну почему?\n"
          ]
        }
      ]
    },
    {
      "cell_type": "markdown",
      "metadata": {
        "id": "m6xW5DV7o85f"
      },
      "source": [
        "### Задание 6 (четное)\n",
        "\n",
        "Напишите программу, которая просит пользователя ввести число и, если оно чётное, выводит на экран сообщение: \"Это число чётное\", если нечётное ‒ \"Это число нечётное\".\n",
        "\n",
        "*Подсказка:* используйте оператор `%` для определения остатка от деления."
      ]
    },
    {
      "cell_type": "code",
      "source": [
        "a = int(input(\"Введите целое число: \"))\n",
        "if a % 2 == 1:\n",
        "    print(\"Это число нечётное\")\n",
        "else:\n",
        "    print(\"Это число чётное\")"
      ],
      "metadata": {
        "colab": {
          "base_uri": "https://localhost:8080/"
        },
        "id": "E2KX4unjK-hu",
        "outputId": "151df621-0dda-457a-a010-3efe56905472"
      },
      "execution_count": 45,
      "outputs": [
        {
          "output_type": "stream",
          "name": "stdout",
          "text": [
            "Введите целое число: 5\n",
            "Это число нечётное\n"
          ]
        }
      ]
    },
    {
      "cell_type": "markdown",
      "metadata": {
        "id": "iwzeZ6Q4o85g"
      },
      "source": [
        "### Задание 7 (музыкальное)\n",
        "\n",
        "Напишите программу, которая принимает на вход список слов такого вида:\n",
        "\n",
        "    words = [\"Speak \",\"to\", \"me \", \"of\", \"Florence\" ,\"And \", \"of\", \"the\", \"Renaissance\"]\n",
        "\n",
        "а возвращает список\n",
        "\n",
        "    words_clean = [\"speak\", \"to\", \"me\", \"of\", \"florence\", \"and\", \"of\", \"the\", \"renaissance\"]\n",
        "\n",
        "Другими словами, программа убирает пробелы в словах и приводит все слова к нижнему регистру. Эту задачу можно решить через циклы, но в Python есть такая полезная вещь как списковые включения. Они работают быстрее, чем циклы, и создавать новые списки на основе старых очень удобно. Прочитать про них можно [здесь](http://pythontutor.ru/lessons/lists/#section_3) и [здесь](https://nbviewer.jupyter.org/github/allatambov/Py-programming-3/blob/master/20-04/lecture-lists-contd.ipynb).\n",
        "\n",
        "**Подсказка:** запросите `help()`  по  методам `.strip()` и `.lower()`."
      ]
    },
    {
      "cell_type": "code",
      "source": [
        "words = [\"Speak \",\"to\", \"me \", \"of\", \"Florence\" ,\"And \", \"of\", \"the\", \"Renaissance\"]\n",
        "words_clean = [i.lower() for i in words]\n",
        "print('words_clean =', words_clean)"
      ],
      "metadata": {
        "colab": {
          "base_uri": "https://localhost:8080/"
        },
        "id": "vJf5aC8bMC_x",
        "outputId": "4205df25-572b-4fe5-ba4e-7c102f8e5d7d"
      },
      "execution_count": 48,
      "outputs": [
        {
          "output_type": "stream",
          "name": "stdout",
          "text": [
            "words_clean = ['speak ', 'to', 'me ', 'of', 'florence', 'and ', 'of', 'the', 'renaissance']\n"
          ]
        }
      ]
    },
    {
      "cell_type": "markdown",
      "metadata": {
        "id": "xq0bVaz0o85i"
      },
      "source": [
        "### Задание 8 (секретное)\n",
        "\n",
        "Напишите программу, которая запрашивает у пользователя пароль, и далее:\n",
        "\n",
        "- если пароль верный, выводит на экран сообщение \"Login success\".\n",
        "- если пароль неверный, выводит на экран сообщение \"Incorrect password, try again!\" до тех пор, пока пользователь не введет верный пароль.\n",
        "\n",
        "Считайте, что верный пароль программе известен, то есть уже сохранен в некоторой переменной. "
      ]
    },
    {
      "cell_type": "code",
      "source": [
        "password = '12345'\n",
        "a = input()\n",
        "while a != password:\n",
        "  print(\"Incorrect password, try again!\")\n",
        "  a = input()\n",
        "if a == password:\n",
        "    print(\"Login success\")"
      ],
      "metadata": {
        "colab": {
          "base_uri": "https://localhost:8080/"
        },
        "id": "Kf8uS8n-Nkeq",
        "outputId": "9807d3a9-38e8-47de-c596-5d9120b43fed"
      },
      "execution_count": 51,
      "outputs": [
        {
          "output_type": "stream",
          "name": "stdout",
          "text": [
            "465846\n",
            "Incorrect password, try again!\n",
            "54684\n",
            "Incorrect password, try again!\n",
            "12345\n",
            "Login success\n"
          ]
        }
      ]
    },
    {
      "cell_type": "markdown",
      "metadata": {
        "id": "BtT9RnEto85j"
      },
      "source": [
        "### Задание 9 (функциональное)\n",
        "\n",
        "Напишите функцию `nums()`, которая принимает на вход целое число, а возвращает список из двух элементов: целое число, предшествующее принятому на вход, и число, следующее за ним.\n",
        "\n",
        "**Пример:**\n",
        "\n",
        "*Входные данные:*\n",
        "\n",
        "    7\n",
        "\n",
        "*Выходные данные:*\n",
        "\n",
        "    [6, 8]"
      ]
    },
    {
      "cell_type": "code",
      "source": [
        "z = []\n",
        "a = int(input())\n",
        "def nums(a):\n",
        "  z.append(a-1)\n",
        "  z.append(a+1)\n",
        "  return z\n",
        "print(nums(a))"
      ],
      "metadata": {
        "colab": {
          "base_uri": "https://localhost:8080/"
        },
        "id": "kAxo6L9vRqVj",
        "outputId": "7676bf52-14a8-4302-d697-6edb1cfbd71d"
      },
      "execution_count": 65,
      "outputs": [
        {
          "output_type": "stream",
          "name": "stdout",
          "text": [
            "2\n",
            "[1, 3]\n"
          ]
        }
      ]
    },
    {
      "cell_type": "markdown",
      "metadata": {
        "id": "Aj6gtrEqo85k"
      },
      "source": [
        "### Задание 10 (счетное)\n",
        "\n",
        "Напишите функцию `my_log()`, которая принимает на вход список чисел, и возвращает список их натуральных логарифмов. Если число меньше или равно 0, на его месте в возвращаемом списке должно быть None.\n",
        "\n",
        "**Пример:**\n",
        "\n",
        "*Входные данные:*\n",
        "\n",
        "    [1, 3, 2.5, -1, 9, 0, 2.71]\n",
        "\n",
        "*Выходные данные:*\n",
        "\n",
        "    [0.0,\n",
        "     1.0986122886681098,\n",
        "     0.9162907318741551,\n",
        "     None,\n",
        "     2.1972245773362196,\n",
        "     None,\n",
        "     0.9969486348916096]"
      ]
    },
    {
      "cell_type": "code",
      "source": [
        "import math\n",
        "a = [1, 3, 2.5, -1, 9, 0, 2.71]\n",
        "b = []\n",
        "def my_log():\n",
        "  for i in a:\n",
        "   if i <= 0:\n",
        "     b.append('None')\n",
        "   else:\n",
        "      b.append(math.log(i))\n",
        "  return b\n",
        "print(my_log())"
      ],
      "metadata": {
        "colab": {
          "base_uri": "https://localhost:8080/"
        },
        "id": "wRRAoTmZVfnX",
        "outputId": "af4e2d89-cc03-4f09-c601-8d993fdd0ace"
      },
      "execution_count": 67,
      "outputs": [
        {
          "output_type": "stream",
          "name": "stdout",
          "text": [
            "[0.0, 1.0986122886681098, 0.9162907318741551, 'None', 2.1972245773362196, 'None', 0.9969486348916096]\n"
          ]
        }
      ]
    },
    {
      "cell_type": "markdown",
      "metadata": {
        "id": "xGMq5ZB3o85l"
      },
      "source": [
        "### Задание 11 (зимнее)\n",
        "\n",
        "Напишите функцию `str_lower()`, которая принимает на вход строку (набор слов через пробел), а возвращает список ее элементов в нижнем регистре. \n",
        "\n",
        "**Пример:**\n",
        "\n",
        "*Входные данные:*\n",
        "\n",
        "    \"В лесу родилась ёлочка В лесу она росла\"\n",
        "\n",
        "*Выходные данные:*\n",
        "\n",
        "    ['в', 'лесу', 'родилась', 'ёлочка', 'в', 'лесу', 'она', 'росла']\n",
        "    \n",
        "*Подсказка:* для разбиение строки на части, познакомьтесь с методом `.split()` – запросите по нему `help()`."
      ]
    },
    {
      "cell_type": "code",
      "source": [
        "a = input().split()\n",
        "def str_lower(): \n",
        "  return [i.lower() for i in a]\n",
        "print(str_lower())"
      ],
      "metadata": {
        "colab": {
          "base_uri": "https://localhost:8080/"
        },
        "id": "1uvv59kgX3H-",
        "outputId": "49797e3b-9bdf-4365-8f0f-6354114d481d"
      },
      "execution_count": 74,
      "outputs": [
        {
          "output_type": "stream",
          "name": "stdout",
          "text": [
            "В лесу родилась ёлочка в лесу она росла\n",
            "['в', 'лесу', 'родилась', 'ёлочка', 'в', 'лесу', 'она', 'росла']\n"
          ]
        }
      ]
    }
  ],
  "metadata": {
    "kernelspec": {
      "display_name": "Python 3",
      "language": "python",
      "name": "python3"
    },
    "language_info": {
      "codemirror_mode": {
        "name": "ipython",
        "version": 3
      },
      "file_extension": ".py",
      "mimetype": "text/x-python",
      "name": "python",
      "nbconvert_exporter": "python",
      "pygments_lexer": "ipython3",
      "version": "3.6.5"
    },
    "colab": {
      "name": "2 - seminar2.ipynb",
      "provenance": []
    }
  },
  "nbformat": 4,
  "nbformat_minor": 0
}